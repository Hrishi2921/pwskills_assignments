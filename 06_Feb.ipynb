{
 "cells": [
  {
   "cell_type": "markdown",
   "id": "bdb7e733-b399-4f8c-96b5-b3c4c71856da",
   "metadata": {},
   "source": [
    "`QUESTION 1`"
   ]
  },
  {
   "cell_type": "code",
   "execution_count": 66,
   "id": "08000c90-e746-4a00-959c-96d7a305e5a5",
   "metadata": {},
   "outputs": [
    {
     "name": "stdout",
     "output_type": "stream",
     "text": [
      "4134711838987085478833841242112000\n"
     ]
    }
   ],
   "source": [
    "l1=[]\n",
    "\n",
    "def dicfu(a):\n",
    "    for j in a.keys():\n",
    "        if type(j)==int:\n",
    "            l1.append(j)\n",
    "        elif type(j)==list or type(j)==set or type(j)==tuple:\n",
    "            fu1(j)\n",
    "        elif type(j)==dict:\n",
    "            dicfu(j)\n",
    "    \n",
    "    \n",
    "def dicfu1(a):\n",
    "    for k in a.values():\n",
    "        if type(k)==int:\n",
    "            l1.append(k)\n",
    "        elif type(k)==list or type(k)==set or type(k)==tuple:\n",
    "            fu1(k)\n",
    "        elif type(k)==dict:\n",
    "            dicfu(k)\n",
    "        \n",
    "def fu1(l):\n",
    "    for i in l:\n",
    "        if type(i)==list or type(i)==tuple or type(i)==set:\n",
    "            fu1(i)\n",
    "        elif type(i)==int or type(i)==float:\n",
    "            l1.append(i)\n",
    "        elif type(i)==dict:\n",
    "            dicfu(i)\n",
    "            dicfu1(i)\n",
    "    return l1\n",
    "\n",
    "\n",
    "list1 = [1,2,3,4, [44,55,66, True], False, (34,56,78,89,34), {1,2,3,3,2,1}, {1:34, \"key2\": [55, 67, 78, 89], 4: (45,\n",
    "22, 61, 34)}, [56, 'data science'], 'Machine Learning']\n",
    "\n",
    "l2=fu1(list1)\n",
    "from functools import reduce\n",
    "a=reduce(lambda x,y:x*y,l2)\n",
    "print(a)\n",
    "\n"
   ]
  },
  {
   "cell_type": "markdown",
   "id": "064ce690-cf10-4b7c-9180-7b754cd42f34",
   "metadata": {},
   "source": [
    "`QUESTION 2`"
   ]
  },
  {
   "cell_type": "code",
   "execution_count": 67,
   "id": "6cf6ca98-3278-4d12-b23a-45220115e582",
   "metadata": {},
   "outputs": [
    {
     "name": "stdout",
     "output_type": "stream",
     "text": [
      "r$dzmg$gl$yvxlnv$z$wzgz$hxrvmgrhg\n"
     ]
    }
   ],
   "source": [
    "l='I want to become a data scientist'\n",
    "e=''\n",
    "def con(a):\n",
    "    z='abcdefghijklmnopqrstuvwxyz'\n",
    "    if ord(a)>=97 and ord(a)<=122:\n",
    "        ind=z.find(a)\n",
    "        return z[-ind-1]\n",
    "for i in l.lower():\n",
    "    if i!=' ':\n",
    "        e=e+con(i)\n",
    "    else:\n",
    "        e=e+'$'\n",
    "print(e)"
   ]
  }
 ],
 "metadata": {
  "kernelspec": {
   "display_name": "Python 3 (ipykernel)",
   "language": "python",
   "name": "python3"
  },
  "language_info": {
   "codemirror_mode": {
    "name": "ipython",
    "version": 3
   },
   "file_extension": ".py",
   "mimetype": "text/x-python",
   "name": "python",
   "nbconvert_exporter": "python",
   "pygments_lexer": "ipython3",
   "version": "3.10.8"
  }
 },
 "nbformat": 4,
 "nbformat_minor": 5
}
