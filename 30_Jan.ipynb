{
 "cells": [
  {
   "cell_type": "markdown",
   "id": "9c7dd961-390b-404a-b2cf-6287271d493e",
   "metadata": {},
   "source": [
    "`Question 1:`"
   ]
  },
  {
   "cell_type": "code",
   "execution_count": 8,
   "id": "98cbb5a1-44a7-4e35-8610-7960c5096d5d",
   "metadata": {},
   "outputs": [
    {
     "name": "stdin",
     "output_type": "stream",
     "text": [
      "Enter the Marks: 98\n"
     ]
    },
    {
     "name": "stdout",
     "output_type": "stream",
     "text": [
      "A\n"
     ]
    }
   ],
   "source": [
    "Marks = int(input(\"Enter the Marks:\"))\n",
    "if Marks > 90:\n",
    "    GRADE ='A'\n",
    "elif Marks > 80 and Marks<=90:\n",
    "    GRADE ='B'\n",
    "elif Marks >= 60 and Marks<=80:\n",
    "    GRADE ='C'\n",
    "elif Marks <60 :\n",
    "    GRADE ='D'\n",
    "print(GRADE)"
   ]
  },
  {
   "cell_type": "markdown",
   "id": "34ad3e88-548a-4617-bd86-d7b6fbd2cd82",
   "metadata": {},
   "source": [
    "`Question 2:`"
   ]
  },
  {
   "cell_type": "code",
   "execution_count": 11,
   "id": "eea3f35e-a85c-4259-9a21-ee212dae80c3",
   "metadata": {},
   "outputs": [
    {
     "name": "stdin",
     "output_type": "stream",
     "text": [
      "Enter the Cost Price of Bike in Rs.: 153400\n"
     ]
    },
    {
     "name": "stdout",
     "output_type": "stream",
     "text": [
      "Tax is: Rs. 23010.0\n"
     ]
    }
   ],
   "source": [
    "Cost_Price=int(input(\"Enter the Cost Price of Bike in Rs.:\"))\n",
    "if Cost_Price >100000:\n",
    "    Tax=0.15*Cost_Price\n",
    "elif Cost_Price >50000 and Cost_Price<=100000:\n",
    "    Tax=0.10*Cost_Price\n",
    "elif Cost_Price <=50000:\n",
    "    Tax=0.05*Cost_Price\n",
    "print(\"Tax is: Rs.\",Tax)"
   ]
  },
  {
   "cell_type": "markdown",
   "id": "f6bd518c-4f5c-4dfc-958f-6b21692e1180",
   "metadata": {},
   "source": [
    "`Question 3:`"
   ]
  },
  {
   "cell_type": "code",
   "execution_count": 15,
   "id": "de1c1652-91a3-4ccc-b8e4-ac374b77b32c",
   "metadata": {},
   "outputs": [
    {
     "name": "stdin",
     "output_type": "stream",
     "text": [
      "Enter a city from Delhi, Jaipur, Agra: delhi\n"
     ]
    },
    {
     "name": "stdout",
     "output_type": "stream",
     "text": [
      "Red Fort\n"
     ]
    }
   ],
   "source": [
    "city=input(\"Enter a city from Delhi, Jaipur, Agra:\")\n",
    "if city.upper()=='DELHI':\n",
    "    print('Red Fort')\n",
    "elif city.upper()=='AGRA':\n",
    "    print('Taj Mahal')\n",
    "elif city.upper()=='JAIPUR':\n",
    "    print('Jal Mahal')\n",
    "else:\n",
    "    print('Enter a valid input')"
   ]
  },
  {
   "cell_type": "markdown",
   "id": "b20e1243-472b-4a7a-8eb9-2ffa90b6a975",
   "metadata": {},
   "source": [
    "`Question 4:`"
   ]
  },
  {
   "cell_type": "code",
   "execution_count": 20,
   "id": "4313ea13-a526-4145-9208-02e74094c69f",
   "metadata": {},
   "outputs": [
    {
     "name": "stdin",
     "output_type": "stream",
     "text": [
      "Enter the Number: 45\n"
     ]
    },
    {
     "name": "stdout",
     "output_type": "stream",
     "text": [
      "2\n"
     ]
    }
   ],
   "source": [
    "N=float(input('Enter the Number:'))\n",
    "count=0\n",
    "while N>=10.0:\n",
    "    N=N/3.0\n",
    "    count=count+1\n",
    "print(count)"
   ]
  },
  {
   "cell_type": "markdown",
   "id": "8eb349d2-26d7-4884-8853-ee246eea9a44",
   "metadata": {},
   "source": [
    "`Question 5:`"
   ]
  },
  {
   "cell_type": "code",
   "execution_count": 23,
   "id": "10748101-e9d5-446d-9c97-4405a90ff468",
   "metadata": {},
   "outputs": [
    {
     "name": "stdout",
     "output_type": "stream",
     "text": [
      "1 |PWSKILLS\n",
      "2 |PWSKILLS\n",
      "3 |PWSKILLS\n",
      "4 |PWSKILLS\n",
      "5 |PWSKILLS\n",
      "6 |PWSKILLS\n",
      "7 |PWSKILLS\n",
      "8 |PWSKILLS\n",
      "9 |PWSKILLS\n",
      "10 |PWSKILLS\n"
     ]
    }
   ],
   "source": [
    "'''Loops are used whenever we require a certain statement or condition to be executed again and\n",
    "    again. That is, whenever we have to iterate a certain statement, a block of code, any function\n",
    "    or anything else for a certain number of time or until a certain condition is fulfilled, we use\n",
    "    loops.'''\n",
    "#Example: This example shows the use of while loop for printing PWSKILLS 10 times:\n",
    "n=1\n",
    "while(n<=10):\n",
    "    print(n,'|PWSKILLS')\n",
    "    n+=1"
   ]
  },
  {
   "cell_type": "markdown",
   "id": "04c1203c-d973-4d22-8af7-e3c227618bfd",
   "metadata": {},
   "source": [
    "`Question 6`"
   ]
  },
  {
   "cell_type": "code",
   "execution_count": 36,
   "id": "0b321867-e86f-43e2-844a-19477a7e4ad6",
   "metadata": {},
   "outputs": [
    {
     "name": "stdout",
     "output_type": "stream",
     "text": [
      "PATTERN 1:\n",
      "\n",
      "\n",
      "*\n",
      "\n",
      "**\n",
      "\n",
      "***\n",
      "\n",
      "****\n",
      "\n",
      "PATTERN 2:\n",
      "****\n",
      "\n",
      "***\n",
      "\n",
      "**\n",
      "\n",
      "*\n",
      "\n",
      "\n",
      "\n",
      "PATTERN 3:\n",
      "1234\n",
      "\n",
      "123\n",
      "\n",
      "12\n",
      "\n",
      "1\n",
      "\n",
      "\n",
      "\n"
     ]
    }
   ],
   "source": [
    "print('PATTERN 1:')\n",
    "n=1\n",
    "while(n<6):\n",
    "    i=1\n",
    "    while(i<n):\n",
    "        print('*',end='')\n",
    "        i+=1\n",
    "    print('\\n')\n",
    "    n+=1\n",
    "\n",
    "print('PATTERN 2:')\n",
    "n=5\n",
    "while(n>0):\n",
    "    i=1\n",
    "    while(i<n):\n",
    "        print('*',end='')\n",
    "        i+=1\n",
    "    print('\\n')\n",
    "    n-=1\n",
    "    \n",
    "print('PATTERN 3:')\n",
    "n=5\n",
    "while(n>0):\n",
    "    i=1\n",
    "    while(i<n):\n",
    "        print(i,end='')\n",
    "        i+=1\n",
    "    print('\\n')\n",
    "    n-=1\n",
    "\n"
   ]
  },
  {
   "cell_type": "markdown",
   "id": "9a2c7dd9-bc04-4f42-9805-77626a93c028",
   "metadata": {},
   "source": [
    "`Question 7`"
   ]
  },
  {
   "cell_type": "code",
   "execution_count": 3,
   "id": "7fa1c3d4-4cb7-4cb2-a01a-27c4d82ea11e",
   "metadata": {},
   "outputs": [
    {
     "name": "stdout",
     "output_type": "stream",
     "text": [
      "10\n",
      "9\n",
      "8\n",
      "7\n",
      "6\n",
      "5\n",
      "4\n",
      "3\n",
      "2\n",
      "1\n"
     ]
    }
   ],
   "source": [
    "n=10\n",
    "while n>=1:\n",
    "    print(n)\n",
    "    n-=1"
   ]
  },
  {
   "cell_type": "markdown",
   "id": "f00c6f2f-0646-4acc-b050-a8862025848c",
   "metadata": {},
   "source": [
    "`Question 8`"
   ]
  },
  {
   "cell_type": "code",
   "execution_count": 5,
   "id": "bffb6647-b009-45fc-8b24-77020120d8cf",
   "metadata": {},
   "outputs": [
    {
     "name": "stdout",
     "output_type": "stream",
     "text": [
      "10\n",
      "9\n",
      "8\n",
      "7\n",
      "6\n",
      "5\n",
      "4\n",
      "3\n",
      "2\n",
      "1\n"
     ]
    }
   ],
   "source": [
    "'Question 8 and Question 7 (Maybe a typing error)'\n",
    "n=10\n",
    "while n>=1:\n",
    "    print(n)\n",
    "    n-=1\n"
   ]
  },
  {
   "cell_type": "code",
   "execution_count": null,
   "id": "66f26e65-783e-4f10-8e4e-337bd9dee4bf",
   "metadata": {},
   "outputs": [],
   "source": []
  }
 ],
 "metadata": {
  "kernelspec": {
   "display_name": "Python 3 (ipykernel)",
   "language": "python",
   "name": "python3"
  },
  "language_info": {
   "codemirror_mode": {
    "name": "ipython",
    "version": 3
   },
   "file_extension": ".py",
   "mimetype": "text/x-python",
   "name": "python",
   "nbconvert_exporter": "python",
   "pygments_lexer": "ipython3",
   "version": "3.10.8"
  }
 },
 "nbformat": 4,
 "nbformat_minor": 5
}
