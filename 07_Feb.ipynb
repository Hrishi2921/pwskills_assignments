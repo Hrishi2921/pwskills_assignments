{
 "cells": [
  {
   "cell_type": "markdown",
   "id": "b05a8d38-a61c-4118-8664-2903a821c8b2",
   "metadata": {},
   "source": [
    "**Q1. You are writing code for a company. The requirement of the company is that you create a python\n",
    "function that will check whether the password entered by the user is correct or not. The function should\n",
    "take the password as input and return the string “Valid Password” if the entered password follows the\n",
    "below-given password guidelines else it should return “Invalid Password”.\n",
    "Note: 1. The Password should contain at least two uppercase letters and at least two lowercase letters.\n",
    "2. The Password should contain at least a number and three special characters.\n",
    "3. The length of the password should be 10 characters long.**"
   ]
  },
  {
   "cell_type": "code",
   "execution_count": 1,
   "id": "30684d96-0f67-44ef-b2c5-3d806de22226",
   "metadata": {},
   "outputs": [
    {
     "name": "stdin",
     "output_type": "stream",
     "text": [
      "ENTER THE PASSWORD:  ABcd!@#211\n"
     ]
    },
    {
     "name": "stdout",
     "output_type": "stream",
     "text": [
      "Valid Password\n"
     ]
    }
   ],
   "source": [
    "pswd=input('ENTER THE PASSWORD: ')\n",
    "u,l,n,c=0,0,0,0\n",
    "for i in pswd:\n",
    "        if i.isupper() ==True :\n",
    "            u=u+1 \n",
    "        if i.islower() ==True :\n",
    "            l=l+1 \n",
    "        if i.isdigit() == True :\n",
    "            n=n+1 \n",
    "        #Checking the ascii code of special characters:\n",
    "        if (ord(i)>=32 and ord(i)<=47) or (ord(i)>=58 and ord(i)<=64) or (ord(i)>=91 and ord(i)<=96) or (ord(i)>=123 and ord(i)<=126):\n",
    "            c=c+1\n",
    "if u>=2 and l>=2 and n>=1 and c>=3 and len(pswd)==10:\n",
    "    print('Valid Password')\n",
    "else:\n",
    "    print('Invalid Password')"
   ]
  },
  {
   "cell_type": "markdown",
   "id": "9c8af1a1-fbfa-4c01-a2cb-39ec2741f1c5",
   "metadata": {},
   "source": [
    " "
   ]
  },
  {
   "cell_type": "markdown",
   "id": "5b900354-8864-4522-9955-53acf3fc5436",
   "metadata": {
    "jp-MarkdownHeadingCollapsed": true,
    "tags": []
   },
   "source": [
    "**Q2. Solve the below-given questions using at least one of the following:**\n",
    "1. Lambda function\n",
    "2. Filter function\n",
    "3. Map function\n",
    "4. List Comprehension"
   ]
  },
  {
   "cell_type": "markdown",
   "id": "265ad2ec-bdc3-4998-88a1-c9e4d949bce6",
   "metadata": {},
   "source": [
    "`(i) Check if the string starts with a particular letter`"
   ]
  },
  {
   "cell_type": "code",
   "execution_count": 2,
   "id": "27b4be1b-b9d2-4d9b-b9fb-c25ad877b2c0",
   "metadata": {},
   "outputs": [
    {
     "name": "stdin",
     "output_type": "stream",
     "text": [
      "ENTER THE STRING:  Hrishi\n",
      "ENTER THE PARTICULAR LETTER:  J\n"
     ]
    },
    {
     "data": {
      "text/plain": [
       "False"
      ]
     },
     "execution_count": 2,
     "metadata": {},
     "output_type": "execute_result"
    }
   ],
   "source": [
    "s=input('ENTER THE STRING: ')\n",
    "p=input('ENTER THE PARTICULAR LETTER: ')\n",
    "a=lambda s: True if s[0]==p else False \n",
    "a(s)"
   ]
  },
  {
   "cell_type": "markdown",
   "id": "0ffe5a26-0d54-4378-a2a5-01e08af0dc20",
   "metadata": {},
   "source": [
    "`(ii) Check if the string is numeric`"
   ]
  },
  {
   "cell_type": "code",
   "execution_count": 3,
   "id": "54c2336b-c276-4f91-9630-0b3f9ef6885f",
   "metadata": {},
   "outputs": [
    {
     "name": "stdin",
     "output_type": "stream",
     "text": [
      "ENTER THE STRING:  1234\n"
     ]
    },
    {
     "data": {
      "text/plain": [
       "True"
      ]
     },
     "execution_count": 3,
     "metadata": {},
     "output_type": "execute_result"
    }
   ],
   "source": [
    "s=input('ENTER THE STRING: ') \n",
    "b=lambda s: True if s.isnumeric()==True else False \n",
    "b(s)"
   ]
  },
  {
   "cell_type": "markdown",
   "id": "6717e86e-1b15-4a22-8f8a-e4baa8bde7aa",
   "metadata": {},
   "source": [
    "`(iii) Sort a list of tuples having fruit names and their quantity. [(\"mango\",99),(\"orange\",80), (\"grapes\", 1000)]`"
   ]
  },
  {
   "cell_type": "code",
   "execution_count": 4,
   "id": "def3cecc-b997-4a3c-88b7-5f9a04520e0b",
   "metadata": {},
   "outputs": [
    {
     "data": {
      "text/plain": [
       "[('grapes', 1000), ('mango', 99), ('orange', 80)]"
      ]
     },
     "execution_count": 4,
     "metadata": {},
     "output_type": "execute_result"
    }
   ],
   "source": [
    "#Sorting on the basis of name of fruit\n",
    "a=lambda l1: sorted(l1)\n",
    "l= [(\"mango\",99),(\"orange\",80), (\"grapes\", 1000)]\n",
    "a(l)"
   ]
  },
  {
   "cell_type": "code",
   "execution_count": 5,
   "id": "32b3aa74-590c-4a0c-a302-3ebc31981b44",
   "metadata": {},
   "outputs": [
    {
     "data": {
      "text/plain": [
       "[('orange', 80), ('mango', 99), ('grapes', 1000)]"
      ]
     },
     "execution_count": 5,
     "metadata": {},
     "output_type": "execute_result"
    }
   ],
   "source": [
    "#Sorting on the basis of quantity of fruit\n",
    "a=lambda l1: sorted(l1,key = lambda x:x[1])\n",
    "l= [(\"mango\",99),(\"orange\",80), (\"grapes\", 1000)]\n",
    "a(l)"
   ]
  },
  {
   "cell_type": "markdown",
   "id": "bd1e5de0-0866-4996-b020-ca7cee618ce4",
   "metadata": {},
   "source": [
    "`(iv) Find the squares of numbers from 1 to 10`"
   ]
  },
  {
   "cell_type": "code",
   "execution_count": 6,
   "id": "490e722d-f24f-4845-a851-6e58b70f6891",
   "metadata": {},
   "outputs": [
    {
     "data": {
      "text/plain": [
       "[1, 4, 9, 16, 25, 36, 49, 64, 81, 100]"
      ]
     },
     "execution_count": 6,
     "metadata": {},
     "output_type": "execute_result"
    }
   ],
   "source": [
    "[i**2 for i in list(range(1,11))]"
   ]
  },
  {
   "cell_type": "markdown",
   "id": "76287c99-0e7f-4468-b461-3a9cf48fc705",
   "metadata": {},
   "source": [
    "`(v) Find the cube root of numbers from 1 to 10`"
   ]
  },
  {
   "cell_type": "code",
   "execution_count": 2,
   "id": "b9a22b7b-c928-4aa1-aed5-5a4d41887cd0",
   "metadata": {},
   "outputs": [
    {
     "data": {
      "text/plain": [
       "[1.0,\n",
       " 1.2599210498948732,\n",
       " 1.4422495703074083,\n",
       " 1.5874010519681994,\n",
       " 1.7099759466766968,\n",
       " 1.8171205928321397,\n",
       " 1.912931182772389,\n",
       " 2.0,\n",
       " 2.080083823051904,\n",
       " 2.154434690031884]"
      ]
     },
     "execution_count": 2,
     "metadata": {},
     "output_type": "execute_result"
    }
   ],
   "source": [
    "[i**(1/3) for i in list(range(1,11))]"
   ]
  },
  {
   "cell_type": "markdown",
   "id": "3c3a7590-7c12-464e-b33e-e993be30a3ec",
   "metadata": {},
   "source": [
    "`(vi) Check if a given number is even`"
   ]
  },
  {
   "cell_type": "code",
   "execution_count": 8,
   "id": "176f1aee-cdcb-423a-ace7-ead8e5778d64",
   "metadata": {},
   "outputs": [
    {
     "name": "stdin",
     "output_type": "stream",
     "text": [
      "Enter the number: 46\n"
     ]
    },
    {
     "data": {
      "text/plain": [
       "True"
      ]
     },
     "execution_count": 8,
     "metadata": {},
     "output_type": "execute_result"
    }
   ],
   "source": [
    "num=int(input('Enter the number:'))\n",
    "a=lambda x:True if x%2==0 else False\n",
    "a(num)"
   ]
  },
  {
   "cell_type": "markdown",
   "id": "5c6aee62-7b77-4c1d-ae31-5598fe3dcd15",
   "metadata": {},
   "source": [
    "`(vii) Filter odd numbers from the given list.\n",
    "[1,2,3,4,5,6,7,8,9,10]`"
   ]
  },
  {
   "cell_type": "code",
   "execution_count": 9,
   "id": "96e1ccfd-7195-40bd-a3c2-6bf926f54342",
   "metadata": {},
   "outputs": [
    {
     "name": "stdout",
     "output_type": "stream",
     "text": [
      "[1, 3, 5, 7, 9]\n"
     ]
    }
   ],
   "source": [
    "l4=[1,2,3,4,5,6,7,8,9,10]\n",
    "o=list(filter(lambda x:x%2!=0,l4))\n",
    "print(o)"
   ]
  },
  {
   "cell_type": "markdown",
   "id": "f052e0c3-4038-4a51-ae1c-cd37222af00e",
   "metadata": {},
   "source": [
    "`(viii) Sort a list of integers into positive and negative integers lists.\n",
    "[1,2,3,4,5,6,-1,-2,-3,-4,-5,0]`"
   ]
  },
  {
   "cell_type": "code",
   "execution_count": 4,
   "id": "cce6d49c-7395-4d09-b6b7-2971615458dd",
   "metadata": {},
   "outputs": [
    {
     "name": "stdout",
     "output_type": "stream",
     "text": [
      "[0, 1, 2, 3, 4, 5, 6]\n",
      "[-5, -4, -3, -2, -1]\n"
     ]
    }
   ],
   "source": [
    "l5=[1,2,3,4,5,6,-1,-2,-3,-4,-5,0]\n",
    "lp,ln=[],[]\n",
    "a=lambda x: lp.append(x) if x>=0 else ln.append(x)\n",
    "for i in l5:\n",
    "    a(i)\n",
    "print(sorted(lp))\n",
    "print(sorted(ln))"
   ]
  },
  {
   "cell_type": "code",
   "execution_count": null,
   "id": "b808ac6e-c732-409d-bad4-1b8e1c7394f0",
   "metadata": {},
   "outputs": [],
   "source": []
  }
 ],
 "metadata": {
  "kernelspec": {
   "display_name": "Python 3 (ipykernel)",
   "language": "python",
   "name": "python3"
  },
  "language_info": {
   "codemirror_mode": {
    "name": "ipython",
    "version": 3
   },
   "file_extension": ".py",
   "mimetype": "text/x-python",
   "name": "python",
   "nbconvert_exporter": "python",
   "pygments_lexer": "ipython3",
   "version": "3.10.8"
  }
 },
 "nbformat": 4,
 "nbformat_minor": 5
}
