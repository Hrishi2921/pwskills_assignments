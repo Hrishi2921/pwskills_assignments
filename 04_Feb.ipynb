{
 "cells": [
  {
   "cell_type": "markdown",
   "id": "cedaebd1-3007-46c2-ad6e-861d6507236e",
   "metadata": {},
   "source": [
    "`QUESTION 1`"
   ]
  },
  {
   "cell_type": "code",
   "execution_count": 1,
   "id": "6692f79a-315f-4dc1-8add-f40130a37b38",
   "metadata": {},
   "outputs": [
    {
     "data": {
      "text/plain": [
       "[('Virat Kohli', 24936),\n",
       " ('Jack Kallis', 25534),\n",
       " ('Ricky Ponting', 27483),\n",
       " ('Sachin Tendulkar', 34357)]"
      ]
     },
     "execution_count": 1,
     "metadata": {},
     "output_type": "execute_result"
    }
   ],
   "source": [
    "l=[('Sachin Tendulkar', 34357), ('Ricky Ponting', 27483), ('Jack Kallis', 25534), ('Virat Kohli', 24936)]\n",
    "l1=sorted(l,key=lambda x:x[1])\n",
    "l1"
   ]
  },
  {
   "cell_type": "markdown",
   "id": "94864193-1b52-47fd-8b2c-31781211f964",
   "metadata": {},
   "source": [
    "`QUESTION 2`"
   ]
  },
  {
   "cell_type": "code",
   "execution_count": 2,
   "id": "a9cff34b-0c2f-4758-bc16-cc9ff7593a9f",
   "metadata": {},
   "outputs": [
    {
     "data": {
      "text/plain": [
       "[1, 4, 9, 16, 25, 36, 49, 64, 81, 100]"
      ]
     },
     "execution_count": 2,
     "metadata": {},
     "output_type": "execute_result"
    }
   ],
   "source": [
    "l=[1, 2, 3, 4, 5, 6, 7, 8, 9, 10]\n",
    "l1=list(map(lambda x:x*x,l))\n",
    "l1\n"
   ]
  },
  {
   "cell_type": "markdown",
   "id": "49c07841-0d03-41cf-a2e8-bb7f9472b6fd",
   "metadata": {},
   "source": [
    "`QUESTION 3`"
   ]
  },
  {
   "cell_type": "code",
   "execution_count": 3,
   "id": "23011539-c21b-4a5e-861a-6bcf8cceb83d",
   "metadata": {},
   "outputs": [
    {
     "data": {
      "text/plain": [
       "('1', '2', '3', '4', '5', '6', '7', '8', '9', '10')"
      ]
     },
     "execution_count": 3,
     "metadata": {},
     "output_type": "execute_result"
    }
   ],
   "source": [
    "l=[1, 2, 3, 4, 5, 6, 7, 8, 9, 10]\n",
    "l2=tuple(map(lambda x:str(x),l))\n",
    "l2"
   ]
  },
  {
   "cell_type": "markdown",
   "id": "4e40fdf2-e1b9-4aa1-a6fc-a3e8b07ca605",
   "metadata": {},
   "source": [
    "`QUESTION 4`"
   ]
  },
  {
   "cell_type": "code",
   "execution_count": 4,
   "id": "a424683f-9f38-4c2a-a58c-7a5906809254",
   "metadata": {},
   "outputs": [
    {
     "data": {
      "text/plain": [
       "15511210043330985984000000"
      ]
     },
     "execution_count": 4,
     "metadata": {},
     "output_type": "execute_result"
    }
   ],
   "source": [
    "l3=list(range(1,26))\n",
    "from functools import reduce\n",
    "l4=reduce(lambda x,y:x*y,l3)\n",
    "l4"
   ]
  },
  {
   "cell_type": "markdown",
   "id": "ecfd8fd3-2da1-4456-b1e8-d676f325b5e0",
   "metadata": {},
   "source": [
    "`QUESTION 5`"
   ]
  },
  {
   "cell_type": "code",
   "execution_count": 5,
   "id": "3990fd74-a264-4f32-8d8f-3f6141e14d61",
   "metadata": {},
   "outputs": [
    {
     "data": {
      "text/plain": [
       "[6, 60, 90, 120]"
      ]
     },
     "execution_count": 5,
     "metadata": {},
     "output_type": "execute_result"
    }
   ],
   "source": [
    "l5=[2, 3, 6, 9, 27, 60, 90, 120, 55, 46]\n",
    "l6=list(filter(lambda x:x%2==0 and x%3==0, l5))\n",
    "l6"
   ]
  },
  {
   "cell_type": "markdown",
   "id": "806ac335-734a-49ad-b829-283e64434986",
   "metadata": {},
   "source": [
    "`QUESTION 6`"
   ]
  },
  {
   "cell_type": "code",
   "execution_count": 6,
   "id": "21f59804-7e7a-4ca2-b86d-9c8978ffdaad",
   "metadata": {},
   "outputs": [
    {
     "data": {
      "text/plain": [
       "['php', 'aba', 'radar', 'level']"
      ]
     },
     "execution_count": 6,
     "metadata": {},
     "output_type": "execute_result"
    }
   ],
   "source": [
    "l7=['python', 'php', 'aba', 'radar', 'level']\n",
    "l8=list(filter(lambda x:x[::1]==x[::-1],l7))\n",
    "l8"
   ]
  }
 ],
 "metadata": {
  "kernelspec": {
   "display_name": "Python 3 (ipykernel)",
   "language": "python",
   "name": "python3"
  },
  "language_info": {
   "codemirror_mode": {
    "name": "ipython",
    "version": 3
   },
   "file_extension": ".py",
   "mimetype": "text/x-python",
   "name": "python",
   "nbconvert_exporter": "python",
   "pygments_lexer": "ipython3",
   "version": "3.10.8"
  }
 },
 "nbformat": 4,
 "nbformat_minor": 5
}
