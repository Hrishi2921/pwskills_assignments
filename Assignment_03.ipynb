{
 "cells": [
  {
   "cell_type": "code",
   "execution_count": 1,
   "id": "e644d116-8bb6-4f07-94da-66bdfab0b81b",
   "metadata": {},
   "outputs": [
    {
     "name": "stdout",
     "output_type": "stream",
     "text": [
      "for loop result: 0\n",
      "for loop result: 1\n",
      "for loop result: 2\n",
      "for loop result: 3\n",
      "for loop result: 4\n",
      "while loop result: 0\n",
      "while loop result: 1\n",
      "while loop result: 2\n",
      "while loop result: 3\n",
      "while loop result: 4\n"
     ]
    }
   ],
   "source": [
    "#Q1. Explain with an example each when to use a for loop and a while loop.\n",
    "''' Ans:\n",
    "    for loop: The for loop is used when the number of iterations is known.\n",
    "EXAMPLE:'''\n",
    "\n",
    "for i in range(5):\n",
    "    print('for loop result:',i)  \n",
    "\n",
    "''' Here, it can be observed that the number of iterations is known i.e. '5'. \n",
    "    \n",
    "    while loop: The while loop is used when the number of iterations is NOT known.\n",
    "                It usually executes the code to satisfy a user given condition.\n",
    "EXAMPLE:'''\n",
    "\n",
    "j=0  \n",
    "N=5\n",
    "while j<N:\n",
    "    print('while loop result:',j)\n",
    "    j=j+1\n",
    "\n",
    "''' Here, it can be observed that the number of iterations is not known i.e. a logical operator\n",
    "    is used to provide a used-defined condition, satisfying which, the while loop is executing the code.'''\n",
    "\n",
    "end_of_answer_number=1"
   ]
  },
  {
   "cell_type": "code",
   "execution_count": 2,
   "id": "f18398fa-065d-4cb6-a589-b6df9c8847c7",
   "metadata": {},
   "outputs": [
    {
     "name": "stdout",
     "output_type": "stream",
     "text": [
      "for loop: 55\n",
      "while loop: 55\n"
     ]
    }
   ],
   "source": [
    "#Q2. Write a python program to print the sum and product of the first 10 natural numbers using for and while loop\n",
    "'''Ans:\n",
    "(A) USING FOR LOOP:'''\n",
    "res1=0\n",
    "for i in range(11):\n",
    "    res1=res1+i\n",
    "print('for loop:',res1)\n",
    "\n",
    "'''\n",
    "(B) USING WHILE LOOP:'''\n",
    "res2=0\n",
    "i=0\n",
    "while i<11:\n",
    "    res2=res2+i\n",
    "    i=i+1\n",
    "print('while loop:',res2)    "
   ]
  },
  {
   "cell_type": "code",
   "execution_count": 3,
   "id": "b7c56ff0-afa6-42ab-a451-6d4c5516edea",
   "metadata": {},
   "outputs": [
    {
     "name": "stdin",
     "output_type": "stream",
     "text": [
      "ENTER THE UNITS OF ELECTRICITY CONSUMED: 310\n"
     ]
    },
    {
     "name": "stdout",
     "output_type": "stream",
     "text": [
      "2250.0\n"
     ]
    }
   ],
   "source": [
    "#Q3.Create a python program to compute the electricity bill for a household.\n",
    "# The per-unit charges in rupees are as follows: For the first 100 units, the user will be charged Rs. 4.5 per\n",
    "# unit, for the next 100 units, the user will be charged Rs. 6 per unit, and for the next 100 units, the user will\n",
    "# be charged Rs. 10 per unit, After 300 units and above the user will be charged Rs. 20 per unit.\n",
    "# You are required to take the units of electricity consumed in a month from the user as input.\n",
    "# Your program must pass this test case: when the unit of electricity consumed by the user in a month is 310, \n",
    "# the total electricity bill should be 2250.\n",
    "'''Ans:'''\n",
    "\n",
    "unit=int(input('ENTER THE UNITS OF ELECTRICITY CONSUMED:',))\n",
    "bill=0\n",
    "if unit>=0 and unit<=100:\n",
    "    bill=unit*4.5\n",
    "elif unit>100 and unit<=200:\n",
    "    bill=100*4.5+(unit-100)*6\n",
    "elif unit>200 and unit<=300:\n",
    "    bill=100*4.5+100*6+(unit-200)*10\n",
    "elif unit>300:\n",
    "    bill=100*4.5+100*6+100*10+(unit-300)*20\n",
    "print(bill)"
   ]
  },
  {
   "cell_type": "code",
   "execution_count": 4,
   "id": "e5f432b9-c380-42e5-be18-eec74db19c9b",
   "metadata": {},
   "outputs": [
    {
     "name": "stdout",
     "output_type": "stream",
     "text": [
      "FOR LOOP:\n",
      "[8, 64, 125, 216, 512, 1000, 1728, 2744, 3375, 4096, 5832, 8000, 10648, 13824, 15625, 17576, 21952, 27000, 32768, 39304, 42875, 46656, 54872, 64000, 74088, 85184, 91125, 97336, 110592, 125000, 140608, 157464, 166375, 175616, 195112, 216000, 238328, 262144, 274625, 287496, 314432, 343000, 373248, 405224, 421875, 438976, 474552, 512000, 551368, 592704, 614125, 636056, 681472, 729000, 778688, 830584, 857375, 884736, 941192, 1000000]\n",
      "WHILE LOOP:\n",
      "[8, 64, 125, 216, 512, 1000, 1728, 2744, 3375, 4096, 5832, 8000, 10648, 13824, 15625, 17576, 21952, 27000, 32768, 39304, 42875, 46656, 54872, 64000, 74088, 85184, 91125, 97336, 110592, 125000, 140608, 157464, 166375, 175616, 195112, 216000, 238328, 262144, 274625, 287496, 314432, 343000, 373248, 405224, 421875, 438976, 474552, 512000, 551368, 592704, 614125, 636056, 681472, 729000, 778688, 830584, 857375, 884736, 941192, 1000000]\n"
     ]
    }
   ],
   "source": [
    "# Q4.Create a list of numbers from 1 to 100. Use for loop and while loop to calculate the cube of each\n",
    "    # number and if the cube of that number is divisible by 4 or 5 then append that number in a list and print\n",
    "    # that list.\n",
    "'''Answer:'''\n",
    "l1=list(range(1,101))\n",
    "print('FOR LOOP:')\n",
    "cubef=[]\n",
    "cubew=[]\n",
    "lfor=[]\n",
    "lwhile=[]\n",
    "for i in l1:\n",
    "    cubef.append(i**3)\n",
    "for i in cubef:\n",
    "    if i%4==0 or i%5==0:\n",
    "        lfor.append(i)\n",
    "print(lfor)\n",
    "print('WHILE LOOP:')\n",
    "i=1\n",
    "while i<=100:\n",
    "    cubew.append(i**3)\n",
    "    i+=1\n",
    "j=0\n",
    "while j<100:\n",
    "    if cubew[j]%4==0 or cubew[j]%5==0:\n",
    "        lwhile.append(cubew[j])\n",
    "    j+=1\n",
    "print(lwhile)"
   ]
  },
  {
   "cell_type": "code",
   "execution_count": 5,
   "id": "e4136fee-2a8f-4829-b749-eac1dc01e3f4",
   "metadata": {},
   "outputs": [
    {
     "name": "stdout",
     "output_type": "stream",
     "text": [
      "11\n"
     ]
    }
   ],
   "source": [
    "# Q5. Write a program to filter count vowels in the below-given string.\n",
    "\n",
    "# string = \"I want to become a data scientist\"\n",
    "'''Ans:'''\n",
    "string = \"I want to become a data scientist\"\n",
    "count=0\n",
    "for i in string:\n",
    "    if i=='a' or i=='e' or i=='i' or i=='o' or i=='u':\n",
    "        count+=1\n",
    "print(count)"
   ]
  }
 ],
 "metadata": {
  "kernelspec": {
   "display_name": "Python 3 (ipykernel)",
   "language": "python",
   "name": "python3"
  },
  "language_info": {
   "codemirror_mode": {
    "name": "ipython",
    "version": 3
   },
   "file_extension": ".py",
   "mimetype": "text/x-python",
   "name": "python",
   "nbconvert_exporter": "python",
   "pygments_lexer": "ipython3",
   "version": "3.10.8"
  }
 },
 "nbformat": 4,
 "nbformat_minor": 5
}
