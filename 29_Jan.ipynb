{
 "cells": [
  {
   "cell_type": "code",
   "execution_count": 1,
   "id": "a5702cc0-6bbc-49e2-b3c6-7e583e43137a",
   "metadata": {},
   "outputs": [],
   "source": [
    "#Q1 Who developed Python Programming Language?\n",
    "'''Ans: Python was developed by Guido van Rossum, a Dutch Programmer, at Centrum Wiskunde & Informatica.'''\n",
    "\n",
    "end_of_answer=1\n"
   ]
  },
  {
   "cell_type": "code",
   "execution_count": 2,
   "id": "86bc38f5-d9e5-465b-91f4-53c52909385f",
   "metadata": {},
   "outputs": [],
   "source": [
    "#Q2 Which type of Programming does Python Support?\n",
    "'''Ans: Python is an interpreted programming language, supporting object-oriented, structured,\n",
    "        and functional programming.'''\n",
    "\n",
    "end_of_answer=2"
   ]
  },
  {
   "cell_type": "code",
   "execution_count": 3,
   "id": "924833a5-e675-4f86-99a2-1b30b5e46811",
   "metadata": {},
   "outputs": [],
   "source": [
    "#Q3 Is Python case sensitive when dealing with identifiers?\n",
    "'''Ans: Yes, Python is case sensitive when dealing with identifiers. \n",
    "        For e.g.: or is a logical operator whereas OR can be name of an identifier.'''\n",
    "end_of_answer=3"
   ]
  },
  {
   "cell_type": "code",
   "execution_count": 4,
   "id": "e9d9aa6d-682d-4471-a162-3061deafe953",
   "metadata": {},
   "outputs": [],
   "source": [
    "#Q4 What is the correct extension of the Python file?\n",
    "'''Ans: Python files usually have '.py' extensions. Jupyter notebook have '.ipynb' extension.'''\n",
    "end_of_answer=4"
   ]
  },
  {
   "cell_type": "code",
   "execution_count": 5,
   "id": "1baf2d62-082e-46b8-a39c-a27f643e1c51",
   "metadata": {},
   "outputs": [],
   "source": [
    "#Q5 Is Python code compiled or interpreted?\n",
    "'''Ans: Python code are interpreted i.e. it takes single line of code.'''\n",
    "end_of_answer=5"
   ]
  },
  {
   "cell_type": "code",
   "execution_count": 6,
   "id": "4f551ad5-7a92-4ca6-a93e-cb7ab4f31439",
   "metadata": {},
   "outputs": [],
   "source": [
    "#Q6 Name a few blocks of code used to define in Python Language?\n",
    "''' Ans: Module, function body ,class definition'''\n",
    "end_of_answer=6"
   ]
  },
  {
   "cell_type": "code",
   "execution_count": 7,
   "id": "2c680c7b-7ee5-4c2b-a684-92532bc8839c",
   "metadata": {},
   "outputs": [],
   "source": [
    "#Q7 State a character used to give a single-line comments in Python?\n",
    "'''Ans: '#' is used to give single-line comments in Python.'''\n",
    "end_of_answer=7"
   ]
  },
  {
   "cell_type": "code",
   "execution_count": 8,
   "id": "9169a1a1-d2a2-47d1-88a1-050e0f37b033",
   "metadata": {},
   "outputs": [],
   "source": [
    "#Q8 Mention Functions which can help us to find the version of python that we are currenly working on\n",
    "'''Ans: \n",
    "\n",
    "METHOD 1:\n",
    "import sys\n",
    "sys.version \n",
    "\n",
    "METHOD 2:\n",
    "from platform import python_version\n",
    "python_version()'''\n",
    "\n",
    "end_of_answer =8"
   ]
  },
  {
   "cell_type": "code",
   "execution_count": 9,
   "id": "a4c417fe-792d-4908-bd0b-df46d8351eb8",
   "metadata": {},
   "outputs": [],
   "source": [
    "#Question 9: Python supports creation of a runtime function using a construct called _______\n",
    "'ANS: lambda '\n",
    "end_of_answer=9"
   ]
  },
  {
   "cell_type": "code",
   "execution_count": 10,
   "id": "5af4dfb1-ee57-4670-ae80-bd5d14260470",
   "metadata": {},
   "outputs": [],
   "source": [
    "#Question 10 : What does pip stands for in python\n",
    "'Ans: pip stands for preferred installer program'\n",
    "end_of_answer=10"
   ]
  },
  {
   "cell_type": "code",
   "execution_count": 11,
   "id": "a5088b52-886c-49f9-9656-b83932274dbd",
   "metadata": {},
   "outputs": [],
   "source": [
    "#Question 11: Mention a few built-in functions in python?\n",
    "'Ans: isupper(), islower(), isalphanum(), isdigit(), append(), pop(), remove().'\n",
    "end_of_answer=11"
   ]
  },
  {
   "cell_type": "code",
   "execution_count": 12,
   "id": "0d07d148-7244-4f11-b7f6-d962d4afb5a7",
   "metadata": {},
   "outputs": [],
   "source": [
    "#Question 12: What is the maximum possible length of an identifier in python?\n",
    "'Ans: 79 characters'\n",
    "end_of_answer=12"
   ]
  },
  {
   "cell_type": "code",
   "execution_count": 13,
   "id": "604b18fd-0465-428d-8c69-4bdc8f9bf24b",
   "metadata": {},
   "outputs": [],
   "source": [
    "#Question 13: What are benefits of using python?\n",
    "'''Ans: 1. Python contains various third-party modules which makes it versatile to use.\n",
    "        2. Extensive support libraries(NumPy for numerical calculations, Pandas for data analytics, etc.)\n",
    "        makes tough task very easy.\n",
    "        3. It is portable and user-friendly due to which it becomes easier to use.\n",
    "        4. It is Dynamically typed language(No need to mention data type based on the value assigned, it takes data type)'''\n",
    "end_of_answer=13"
   ]
  },
  {
   "cell_type": "code",
   "execution_count": 14,
   "id": "a2cfb88e-3ffe-4c96-ab0e-b02c5bb2869f",
   "metadata": {},
   "outputs": [],
   "source": [
    "#Question 14: How is memory managed in Python?\n",
    "'''Ans: Memory management in Python involves a private heap containing all Python objects and data structures. The management of this private heap is ensured internally by the Python memory manager. The Python memory manager has different components which deal with various dynamic storage management aspects, like sharing, segmentation, preallocation or caching.\n",
    "        In Python memory allocation and deallocation method is automatic as the Python developers created a garbage collector for Python so that the user does not have to do manual garbage collection.'''\n",
    "end_of_answer=14"
   ]
  },
  {
   "cell_type": "code",
   "execution_count": 15,
   "id": "2c0b5b3b-7dac-45f7-8aaa-22265778296c",
   "metadata": {},
   "outputs": [],
   "source": [
    "#Question 15: How to install python on windows and set path variables?\n",
    "'''Ans: Download Python from https://www.python.org/downloads/ and run the installer. Install the file\n",
    "        at the desired path.\n",
    "        Setting up the path variable is as follow:\n",
    "        First, navigate to the Windows Environment Variables screen (where you can add/edit your paths):\n",
    "        1.Press the Windows Key + R on your keyboard in order to open the Run dialog box\n",
    "        2.Type sysdm.cpl to open the System Properties\n",
    "        3.Go to the Advanced tab and then click on the 'Environment Variables…'\n",
    "        Under the User variables box, click on ‘New…’ to add the ‘Path’ variable\n",
    "        (note that if your ‘Path’ variable already exists, then click on ‘Edit…’ instead):\n",
    "        Fill the New User Variable box that you saw earlier:\n",
    "        1.For the Variable name, type ‘Path‘\n",
    "        2.For the Variable value, copy the full Python application path, then use semicolon and \n",
    "          finally copy the Python Scripts path.'''\n",
    "end_of_answer=15"
   ]
  },
  {
   "cell_type": "code",
   "execution_count": 16,
   "id": "20f3b9db-d85e-4a2d-b796-167bf63a03bd",
   "metadata": {},
   "outputs": [],
   "source": [
    "#Question 16: Is indentation required in Python?\n",
    "'''Ans: Indentations are very very important in Python as they indicate the start of a new block of code.\n",
    "        Indentation in Python is similar to curly brackets '{}' in C/C++.'''\n",
    "end_of_asnwer=16"
   ]
  },
  {
   "cell_type": "code",
   "execution_count": null,
   "id": "c9f98369-1c14-4bc1-8784-0b1a04e730c6",
   "metadata": {},
   "outputs": [],
   "source": []
  }
 ],
 "metadata": {
  "kernelspec": {
   "display_name": "Python 3 (ipykernel)",
   "language": "python",
   "name": "python3"
  },
  "language_info": {
   "codemirror_mode": {
    "name": "ipython",
    "version": 3
   },
   "file_extension": ".py",
   "mimetype": "text/x-python",
   "name": "python",
   "nbconvert_exporter": "python",
   "pygments_lexer": "ipython3",
   "version": "3.10.8"
  }
 },
 "nbformat": 4,
 "nbformat_minor": 5
}
