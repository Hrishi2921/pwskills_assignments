{
 "cells": [
  {
   "cell_type": "markdown",
   "id": "8c31cb89-c247-45d9-8320-deb783224240",
   "metadata": {},
   "source": [
    "`Question 1:`"
   ]
  },
  {
   "cell_type": "code",
   "execution_count": 1,
   "id": "9914772e-1529-49cf-9b65-8f6dbdfed1bf",
   "metadata": {},
   "outputs": [
    {
     "name": "stdout",
     "output_type": "stream",
     "text": [
      "1\n",
      "3\n",
      "5\n",
      "7\n",
      "9\n",
      "11\n",
      "13\n",
      "15\n",
      "17\n",
      "19\n",
      "21\n",
      "23\n",
      "25\n"
     ]
    }
   ],
   "source": [
    "'''ANS:\n",
    "def keyword is used to create a function.'''\n",
    "def odd():\n",
    "    for i in range(26):\n",
    "        if(i%2!=0):\n",
    "            print(i)\n",
    "odd()"
   ]
  },
  {
   "cell_type": "markdown",
   "id": "1aa417fe-132f-4fa2-9682-0fb15ef58a54",
   "metadata": {},
   "source": [
    "`Question 2:`"
   ]
  },
  {
   "cell_type": "code",
   "execution_count": 2,
   "id": "d167273c-d2e4-44fc-85f7-c56642e63076",
   "metadata": {},
   "outputs": [
    {
     "name": "stdout",
     "output_type": "stream",
     "text": [
      "10\n",
      "{'a': 1, 'b': 2, 'c': 3, 'd': 4}\n"
     ]
    }
   ],
   "source": [
    "'''ANS:\n",
    "*args: It is used when the number of arguments in a function is not certain or when we want the number of\n",
    "        arguments to be decided during execution. *args arguments are non-keyword and returns a tuple.\n",
    "**kwargs: It is, too, used when the numer of arguments in a function is not certain i.e. number of argument\n",
    "        is variable but it is used when arguments are keyword type and returns dictionary.'''\n",
    "#USE OF *args:\n",
    "def sum_of_n_numbers(*args):\n",
    "    x=list(args)\n",
    "    s=0\n",
    "    for i in x:\n",
    "         s=s+i\n",
    "    return s\n",
    "print(sum_of_n_numbers(1,2,3,4))\n",
    "\n",
    "#USE OF *kwargs:\n",
    "def con_dict(**kwargs):\n",
    "    l=kwargs\n",
    "    return l\n",
    "print(con_dict(a=1,b=2,c=3,d=4))\n"
   ]
  },
  {
   "cell_type": "markdown",
   "id": "1801e384-f453-4019-bc8d-9663e0b4a3bf",
   "metadata": {},
   "source": [
    "`Question 3:`"
   ]
  },
  {
   "cell_type": "code",
   "execution_count": 3,
   "id": "000fabfe-cd7e-4546-abda-60dd667c5b78",
   "metadata": {},
   "outputs": [
    {
     "name": "stdout",
     "output_type": "stream",
     "text": [
      "2\n",
      "4\n",
      "6\n",
      "8\n",
      "10\n"
     ]
    }
   ],
   "source": [
    "'''ANS:\n",
    "An iterator is an object in which we can traverse through all the values. \n",
    "One of the method used to initialise the iterator object is iter() and the method used for iteration is next().'''\n",
    "l=[2,4,6,8,10,12,14,16,18,20]\n",
    "x=iter(l)\n",
    "n=1\n",
    "while(n<6):\n",
    "    print(next(x))\n",
    "    n+=1"
   ]
  },
  {
   "cell_type": "markdown",
   "id": "ccd43c95-cd04-4c2e-b40c-390309ccfb72",
   "metadata": {},
   "source": [
    "`Question 4:`"
   ]
  },
  {
   "cell_type": "code",
   "execution_count": 4,
   "id": "6f644ab4-1056-45d8-9224-464adf9247f1",
   "metadata": {},
   "outputs": [
    {
     "data": {
      "text/plain": [
       "<generator object gen at 0x7f179b949770>"
      ]
     },
     "execution_count": 4,
     "metadata": {},
     "output_type": "execute_result"
    }
   ],
   "source": [
    "'''ANS:\n",
    "A generator is a function that returns an iterator that produces a sequence of values when iterated over.\n",
    "Generators are useful when we want to produce a large sequence of values, but we don't want to store all of \n",
    "them in memory at once.\n",
    "The yield keyword in Python is similar to a return statement used for returning values in Python which returns\n",
    "a generator object to the one who calls the function which contains yield, instead of simply returning a \n",
    "value.'''\n",
    "#EXAMPLE OF GENERATOR FUNCTION:\n",
    "def gen():\n",
    "    for i in range(10000):\n",
    "        yield i\n",
    "gen()"
   ]
  },
  {
   "cell_type": "markdown",
   "id": "883873fd-aae7-4fd2-9406-275d8236d847",
   "metadata": {},
   "source": [
    "`Question 5:`"
   ]
  },
  {
   "cell_type": "code",
   "execution_count": 5,
   "id": "a653a1a4-13a4-4bcd-8be5-a93046588b3a",
   "metadata": {
    "tags": []
   },
   "outputs": [
    {
     "name": "stdout",
     "output_type": "stream",
     "text": [
      "1 2 3 5 7 11 13 17 19 23 29 31 37 41 43 47 53 59 61 67 "
     ]
    }
   ],
   "source": [
    "def prime():\n",
    "    for n in range(1,1001):\n",
    "        for i in range(2,n):\n",
    "            if n%i==0:\n",
    "                break\n",
    "        else:\n",
    "            yield n\n",
    "a=prime()\n",
    "for j in range(1,21):\n",
    "    print(next(a),end=' ')\n",
    "\n",
    "                \n",
    "            "
   ]
  },
  {
   "cell_type": "markdown",
   "id": "7f5fe63a-75af-400f-9ae8-150d56d75624",
   "metadata": {},
   "source": [
    "`Question 6:`"
   ]
  },
  {
   "cell_type": "code",
   "execution_count": 6,
   "id": "4690a7ce-eb0c-41bb-9b17-1c5768f7cb66",
   "metadata": {},
   "outputs": [
    {
     "name": "stdout",
     "output_type": "stream",
     "text": [
      "0 1 1 2 3 5 8 13 21 34 "
     ]
    }
   ],
   "source": [
    "a,b=0,1\n",
    "n=0\n",
    "while(n<10):\n",
    "    print(a,end=' ')\n",
    "    c=a+b\n",
    "    a=b\n",
    "    b=c\n",
    "    n+=1"
   ]
  },
  {
   "cell_type": "markdown",
   "id": "657a4817-d7ea-4ed8-9a76-bca2e7a99298",
   "metadata": {},
   "source": [
    "`Question 7:`\n"
   ]
  },
  {
   "cell_type": "code",
   "execution_count": 7,
   "id": "b0384a89-1f9b-439a-828d-e37389c13daa",
   "metadata": {},
   "outputs": [
    {
     "data": {
      "text/plain": [
       "['p', 'w', 's', 'k', 'i', 'l', 'l', 's']"
      ]
     },
     "execution_count": 7,
     "metadata": {},
     "output_type": "execute_result"
    }
   ],
   "source": [
    "[ i for i in 'pwskills']"
   ]
  },
  {
   "cell_type": "markdown",
   "id": "07ee3800-1af1-408c-934c-ac8a1fe4489f",
   "metadata": {},
   "source": [
    "`Question 8:`\n"
   ]
  },
  {
   "cell_type": "code",
   "execution_count": 8,
   "id": "73c48050-bece-4a32-a730-3be1af99070f",
   "metadata": {},
   "outputs": [
    {
     "name": "stdin",
     "output_type": "stream",
     "text": [
      "Enter the number: 121\n"
     ]
    },
    {
     "name": "stdout",
     "output_type": "stream",
     "text": [
      "PALINDROME\n"
     ]
    }
   ],
   "source": [
    "N=input(\"Enter the number:\")\n",
    "i=0\n",
    "while i<len(N):\n",
    "    if N[i]==N[len(N)-(i+1)]:\n",
    "        p=True\n",
    "    else:\n",
    "        p=False\n",
    "    i+=1\n",
    "if p:\n",
    "    print('PALINDROME')\n",
    "else:\n",
    "    print('NOT PALINDROME')"
   ]
  },
  {
   "cell_type": "markdown",
   "id": "53ed7ba9-50cd-43f0-a82d-ec750d96e579",
   "metadata": {},
   "source": [
    "`Question 9:`\n"
   ]
  },
  {
   "cell_type": "code",
   "execution_count": 9,
   "id": "d565a2d5-867b-4e57-9c16-350a8429bc5f",
   "metadata": {},
   "outputs": [
    {
     "data": {
      "text/plain": [
       "[1,\n",
       " 3,\n",
       " 5,\n",
       " 7,\n",
       " 9,\n",
       " 11,\n",
       " 13,\n",
       " 15,\n",
       " 17,\n",
       " 19,\n",
       " 21,\n",
       " 23,\n",
       " 25,\n",
       " 27,\n",
       " 29,\n",
       " 31,\n",
       " 33,\n",
       " 35,\n",
       " 37,\n",
       " 39,\n",
       " 41,\n",
       " 43,\n",
       " 45,\n",
       " 47,\n",
       " 49,\n",
       " 51,\n",
       " 53,\n",
       " 55,\n",
       " 57,\n",
       " 59,\n",
       " 61,\n",
       " 63,\n",
       " 65,\n",
       " 67,\n",
       " 69,\n",
       " 71,\n",
       " 73,\n",
       " 75,\n",
       " 77,\n",
       " 79,\n",
       " 81,\n",
       " 83,\n",
       " 85,\n",
       " 87,\n",
       " 89,\n",
       " 91,\n",
       " 93,\n",
       " 95,\n",
       " 97,\n",
       " 99]"
      ]
     },
     "execution_count": 9,
     "metadata": {},
     "output_type": "execute_result"
    }
   ],
   "source": [
    "l=[i for i in range(1,101)]\n",
    "[i for i in l if i%2!=0]\n"
   ]
  },
  {
   "cell_type": "code",
   "execution_count": null,
   "id": "e708737e-f5c9-4045-9f0d-19c5497ac7e4",
   "metadata": {},
   "outputs": [],
   "source": []
  }
 ],
 "metadata": {
  "kernelspec": {
   "display_name": "Python 3 (ipykernel)",
   "language": "python",
   "name": "python3"
  },
  "language_info": {
   "codemirror_mode": {
    "name": "ipython",
    "version": 3
   },
   "file_extension": ".py",
   "mimetype": "text/x-python",
   "name": "python",
   "nbconvert_exporter": "python",
   "pygments_lexer": "ipython3",
   "version": "3.10.8"
  }
 },
 "nbformat": 4,
 "nbformat_minor": 5
}
