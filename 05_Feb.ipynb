{
 "cells": [
  {
   "cell_type": "markdown",
   "id": "d3b094bb-b8f2-40eb-849e-8a368fb45a58",
   "metadata": {},
   "source": [
    "`QUESTION 1:`"
   ]
  },
  {
   "cell_type": "markdown",
   "id": "db193171-19b1-49dd-b669-112f95ba70b5",
   "metadata": {},
   "source": [
    "ANS:\n",
    "Classes are user-defined data types that act as the blueprint for individual objects, attributes and methods.The built-in data types like int,float,str etc. are also class. \n",
    "Objects are instances of a class created with specifically defined data. Objects can correspond to real-world objects or an abstract entity.\n",
    "Example: 1. Bird is a class. Sparrow, Eagles, Peacock are objects of class Bird.\n",
    "         2. int is a class. Let us suppose a=5. Then 'a' has a data type int. Thus, it is an object of class int. "
   ]
  },
  {
   "cell_type": "markdown",
   "id": "9b04d30b-643e-4771-9e8b-7d09a4b52968",
   "metadata": {},
   "source": [
    "`QUESTION 2:`"
   ]
  },
  {
   "cell_type": "raw",
   "id": "b2b06d9f-d84c-4b91-9247-ec047c588e95",
   "metadata": {},
   "source": [
    "ANS:\n",
    "    Four Pillars of OOPS are:\n",
    "        1. Polymorphism\n",
    "        2. Encapsulation\n",
    "        3. Inheritance\n",
    "        4. Abstraction"
   ]
  },
  {
   "cell_type": "markdown",
   "id": "e5d9121b-5241-48f7-b929-5e0aabb79034",
   "metadata": {},
   "source": [
    "`QUESTION 3:`"
   ]
  },
  {
   "cell_type": "code",
   "execution_count": 1,
   "id": "5bbc6a59-19f1-4187-97ac-c4364a62915d",
   "metadata": {},
   "outputs": [],
   "source": [
    "'''ANS:\n",
    "    The __init__ is used for initialisation of object in classes. The __init__ method lets \n",
    "    the class initialize the object's attributes and serves no other purpose. \n",
    "    EXAMPLE:'''\n",
    "\n",
    "class fruits_qty:\n",
    "    def __init__(self,apple,mango):\n",
    "        self.qtyofapple=apple\n",
    "        self.qtyofmango=mango\n",
    "#'Here __init__ initalises two attributes qtyofapple and qtyofmango'"
   ]
  },
  {
   "cell_type": "markdown",
   "id": "171c8f21-4551-40aa-952c-4078c1390b1c",
   "metadata": {},
   "source": [
    "`QUESTION 4:`"
   ]
  },
  {
   "cell_type": "markdown",
   "id": "875764be-dc8a-4635-b51b-8bbc82d7efe0",
   "metadata": {},
   "source": [
    "ANS: By using the “self” we can access the attributes and methods of the class in python. It binds the attributes with the given arguments. The reason we need to use self. is because Python does not use the @ syntax to refer to instance attributes."
   ]
  },
  {
   "cell_type": "markdown",
   "id": "d4e8aa27-a89c-4794-9e94-4ab046edb6d5",
   "metadata": {},
   "source": [
    "`QUESTION 5:`"
   ]
  },
  {
   "cell_type": "code",
   "execution_count": 27,
   "id": "bcc7060a-1954-4ed4-89dd-70cf6c9fd5e7",
   "metadata": {},
   "outputs": [
    {
     "name": "stdout",
     "output_type": "stream",
     "text": [
      "Example of single inheritance\n",
      "Example of Multiple Inheritance: class 1\n",
      "Example of Multiple Inheritance: class 2\n",
      "As you can see, I have the properties from both distinct classes\n",
      "Example of Multilevel Inheritance \n",
      "I am from Level 1\n",
      "I am from Level 2\n",
      "I am from Level 3\n",
      "EXAMPLE OF HYBRID INHERITANCE\n",
      "I am Sugarcane\n",
      "I am Sugar\n",
      "I am Jaggery\n",
      "I am a mixture of Sugar and Jaggery\n",
      "EXAMPLE OF HIERARCHICAL INHERITANCE\n",
      "I am John\n",
      "I am John's Son\n",
      "I am John\n",
      "I am John's daughter\n"
     ]
    }
   ],
   "source": [
    "'''ANS: In object-oriented programming, inheritance is the mechanism of basing an object or class upon another object or class, retaining similar implementation.\n",
    "        In simple words, Inheritance is a concept of acquiring property of a pre-existing class.\n",
    "        Types of Inheritance:\n",
    "        (1) Single Inheritance: Eg: '''\n",
    "\n",
    "class single:\n",
    "    def r(self):\n",
    "        print('Example of single inheritance')\n",
    "        \n",
    "class single_inherited(single):\n",
    "    pass\n",
    "        \n",
    "a= single_inherited()\n",
    "a.r()\n",
    "'''\n",
    "        (2) Multiple Inheritance: Eg: '''\n",
    "class multi1:\n",
    "    def r1(self):\n",
    "        print('Example of Multiple Inheritance: class 1')\n",
    "class multi2:\n",
    "    def r2(self):\n",
    "        print('Example of Multiple Inheritance: class 2')\n",
    "class multi3(multi1,multi2):\n",
    "    def r3(self):\n",
    "        print('As you can see, I have the properties from both distinct classes')\n",
    "b=multi3()\n",
    "b.r1()\n",
    "b.r2()\n",
    "b.r3()\n",
    "'''\n",
    "        (3) Multilevel Inheritance: Eg: '''\n",
    "\n",
    "class mull1:\n",
    "    def f1(self):\n",
    "        print('Example of Multilevel Inheritance','\\nI am from Level 1')\n",
    "class mull2(mull1):\n",
    "    def f2(self):\n",
    "        print('I am from Level 2')\n",
    "class mull3(mull2):\n",
    "    def f3(self):\n",
    "        print('I am from Level 3')\n",
    "    \n",
    "c=mull3()\n",
    "c.f1()\n",
    "c.f2()\n",
    "c.f3()\n",
    "'''\n",
    "        (4) Hybrid Inheritance:'''\n",
    "print('EXAMPLE OF HYBRID INHERITANCE')\n",
    "class hybrid_parent:\n",
    "    def fu1(self):\n",
    "        print(\"I am Sugarcane\")\n",
    "class hybrid_child1(hybrid_parent):\n",
    "    def fu2(self):\n",
    "        print(\"I am Sugar\")\n",
    "class hybrid_child2(hybrid_parent):\n",
    "    def fu3(self):\n",
    "        print(\"I am Jaggery\")\n",
    "class hydrid_grandchild(hybrid_child1,hybrid_child2):\n",
    "    def fu4(self):\n",
    "        print(\"I am a mixture of Sugar and Jaggery\")\n",
    "\n",
    "d=hydrid_grandchild()\n",
    "d.fu1() \n",
    "d.fu2()\n",
    "d.fu3()\n",
    "d.fu4()\n",
    "'''\n",
    "        (5) Hierarchical Inheritance:'''\n",
    "print('EXAMPLE OF HIERARCHICAL INHERITANCE')\n",
    "class parent:\n",
    "    def p(self):\n",
    "        print('I am John')\n",
    "class child(parent):\n",
    "    def c1(self):\n",
    "        print('''I am John's Son''')\n",
    "class child1(parent):\n",
    "    def c2(self):\n",
    "        print('''I am John's daughter''')\n",
    "e=child()\n",
    "f=child1()\n",
    "e.p()\n",
    "e.c1()\n",
    "f.p()\n",
    "f.c2()"
   ]
  },
  {
   "cell_type": "code",
   "execution_count": null,
   "id": "fc349597-de5f-4210-a05d-cf0070948232",
   "metadata": {},
   "outputs": [],
   "source": []
  }
 ],
 "metadata": {
  "kernelspec": {
   "display_name": "Python 3 (ipykernel)",
   "language": "python",
   "name": "python3"
  },
  "language_info": {
   "codemirror_mode": {
    "name": "ipython",
    "version": 3
   },
   "file_extension": ".py",
   "mimetype": "text/x-python",
   "name": "python",
   "nbconvert_exporter": "python",
   "pygments_lexer": "ipython3",
   "version": "3.10.8"
  }
 },
 "nbformat": 4,
 "nbformat_minor": 5
}
